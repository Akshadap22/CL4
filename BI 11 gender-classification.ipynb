{
 "cells": [
  {
   "cell_type": "code",
   "execution_count": 1,
   "id": "a6dcc319",
   "metadata": {
    "_cell_guid": "b1076dfc-b9ad-4769-8c92-a6c4dae69d19",
    "_uuid": "8f2839f25d086af736a60e9eeb907d3b93b6e0e5",
    "execution": {
     "iopub.execute_input": "2024-03-30T11:50:06.601520Z",
     "iopub.status.busy": "2024-03-30T11:50:06.601158Z",
     "iopub.status.idle": "2024-03-30T11:50:07.517182Z",
     "shell.execute_reply": "2024-03-30T11:50:07.515691Z"
    },
    "papermill": {
     "duration": 0.928189,
     "end_time": "2024-03-30T11:50:07.519217",
     "exception": false,
     "start_time": "2024-03-30T11:50:06.591028",
     "status": "completed"
    },
    "tags": []
   },
   "outputs": [
    {
     "name": "stdout",
     "output_type": "stream",
     "text": [
      "/kaggle/input/gender-classification-dataset/gender_classification_v7.csv\n"
     ]
    }
   ],
   "source": [
    "# This Python 3 environment comes with many helpful analytics libraries installed\n",
    "# It is defined by the kaggle/python Docker image: https://github.com/kaggle/docker-python\n",
    "# For example, here's several helpful packages to load\n",
    "\n",
    "import numpy as np # linear algebra\n",
    "import pandas as pd # data processing, CSV file I/O (e.g. pd.read_csv)\n",
    "\n",
    "# Input data files are available in the read-only \"../input/\" directory\n",
    "# For example, running this (by clicking run or pressing Shift+Enter) will list all files under the input directory\n",
    "\n",
    "import os\n",
    "for dirname, _, filenames in os.walk('/kaggle/input'):\n",
    "    for filename in filenames:\n",
    "        print(os.path.join(dirname, filename))\n",
    "\n",
    "# You can write up to 20GB to the current directory (/kaggle/working/) that gets preserved as output when you create a version using \"Save & Run All\" \n",
    "# You can also write temporary files to /kaggle/temp/, but they won't be saved outside of the current session"
   ]
  },
  {
   "cell_type": "code",
   "execution_count": 2,
   "id": "a2bfbac7",
   "metadata": {
    "execution": {
     "iopub.execute_input": "2024-03-30T11:50:07.536389Z",
     "iopub.status.busy": "2024-03-30T11:50:07.535851Z",
     "iopub.status.idle": "2024-03-30T11:50:07.576819Z",
     "shell.execute_reply": "2024-03-30T11:50:07.575571Z"
    },
    "papermill": {
     "duration": 0.051596,
     "end_time": "2024-03-30T11:50:07.578739",
     "exception": false,
     "start_time": "2024-03-30T11:50:07.527143",
     "status": "completed"
    },
    "tags": []
   },
   "outputs": [
    {
     "data": {
      "text/html": [
       "<div>\n",
       "<style scoped>\n",
       "    .dataframe tbody tr th:only-of-type {\n",
       "        vertical-align: middle;\n",
       "    }\n",
       "\n",
       "    .dataframe tbody tr th {\n",
       "        vertical-align: top;\n",
       "    }\n",
       "\n",
       "    .dataframe thead th {\n",
       "        text-align: right;\n",
       "    }\n",
       "</style>\n",
       "<table border=\"1\" class=\"dataframe\">\n",
       "  <thead>\n",
       "    <tr style=\"text-align: right;\">\n",
       "      <th></th>\n",
       "      <th>long_hair</th>\n",
       "      <th>forehead_width_cm</th>\n",
       "      <th>forehead_height_cm</th>\n",
       "      <th>nose_wide</th>\n",
       "      <th>nose_long</th>\n",
       "      <th>lips_thin</th>\n",
       "      <th>distance_nose_to_lip_long</th>\n",
       "      <th>gender</th>\n",
       "    </tr>\n",
       "  </thead>\n",
       "  <tbody>\n",
       "    <tr>\n",
       "      <th>0</th>\n",
       "      <td>1</td>\n",
       "      <td>11.8</td>\n",
       "      <td>6.1</td>\n",
       "      <td>1</td>\n",
       "      <td>0</td>\n",
       "      <td>1</td>\n",
       "      <td>1</td>\n",
       "      <td>Male</td>\n",
       "    </tr>\n",
       "    <tr>\n",
       "      <th>1</th>\n",
       "      <td>0</td>\n",
       "      <td>14.0</td>\n",
       "      <td>5.4</td>\n",
       "      <td>0</td>\n",
       "      <td>0</td>\n",
       "      <td>1</td>\n",
       "      <td>0</td>\n",
       "      <td>Female</td>\n",
       "    </tr>\n",
       "    <tr>\n",
       "      <th>2</th>\n",
       "      <td>0</td>\n",
       "      <td>11.8</td>\n",
       "      <td>6.3</td>\n",
       "      <td>1</td>\n",
       "      <td>1</td>\n",
       "      <td>1</td>\n",
       "      <td>1</td>\n",
       "      <td>Male</td>\n",
       "    </tr>\n",
       "    <tr>\n",
       "      <th>3</th>\n",
       "      <td>0</td>\n",
       "      <td>14.4</td>\n",
       "      <td>6.1</td>\n",
       "      <td>0</td>\n",
       "      <td>1</td>\n",
       "      <td>1</td>\n",
       "      <td>1</td>\n",
       "      <td>Male</td>\n",
       "    </tr>\n",
       "    <tr>\n",
       "      <th>4</th>\n",
       "      <td>1</td>\n",
       "      <td>13.5</td>\n",
       "      <td>5.9</td>\n",
       "      <td>0</td>\n",
       "      <td>0</td>\n",
       "      <td>0</td>\n",
       "      <td>0</td>\n",
       "      <td>Female</td>\n",
       "    </tr>\n",
       "  </tbody>\n",
       "</table>\n",
       "</div>"
      ],
      "text/plain": [
       "   long_hair  forehead_width_cm  forehead_height_cm  nose_wide  nose_long  \\\n",
       "0          1               11.8                 6.1          1          0   \n",
       "1          0               14.0                 5.4          0          0   \n",
       "2          0               11.8                 6.3          1          1   \n",
       "3          0               14.4                 6.1          0          1   \n",
       "4          1               13.5                 5.9          0          0   \n",
       "\n",
       "   lips_thin  distance_nose_to_lip_long  gender  \n",
       "0          1                          1    Male  \n",
       "1          1                          0  Female  \n",
       "2          1                          1    Male  \n",
       "3          1                          1    Male  \n",
       "4          0                          0  Female  "
      ]
     },
     "execution_count": 2,
     "metadata": {},
     "output_type": "execute_result"
    }
   ],
   "source": [
    "data=pd.read_csv(\"/kaggle/input/gender-classification-dataset/gender_classification_v7.csv\")\n",
    "data.head()"
   ]
  },
  {
   "cell_type": "code",
   "execution_count": 3,
   "id": "a632543b",
   "metadata": {
    "execution": {
     "iopub.execute_input": "2024-03-30T11:50:07.596447Z",
     "iopub.status.busy": "2024-03-30T11:50:07.596079Z",
     "iopub.status.idle": "2024-03-30T11:50:07.601460Z",
     "shell.execute_reply": "2024-03-30T11:50:07.600296Z"
    },
    "papermill": {
     "duration": 0.016415,
     "end_time": "2024-03-30T11:50:07.603439",
     "exception": false,
     "start_time": "2024-03-30T11:50:07.587024",
     "status": "completed"
    },
    "tags": []
   },
   "outputs": [],
   "source": [
    "data=pd.DataFrame(data)"
   ]
  },
  {
   "cell_type": "code",
   "execution_count": 4,
   "id": "35ec238e",
   "metadata": {
    "execution": {
     "iopub.execute_input": "2024-03-30T11:50:07.620894Z",
     "iopub.status.busy": "2024-03-30T11:50:07.620538Z",
     "iopub.status.idle": "2024-03-30T11:50:07.646737Z",
     "shell.execute_reply": "2024-03-30T11:50:07.645336Z"
    },
    "papermill": {
     "duration": 0.037871,
     "end_time": "2024-03-30T11:50:07.649287",
     "exception": false,
     "start_time": "2024-03-30T11:50:07.611416",
     "status": "completed"
    },
    "tags": []
   },
   "outputs": [
    {
     "name": "stdout",
     "output_type": "stream",
     "text": [
      "<class 'pandas.core.frame.DataFrame'>\n",
      "RangeIndex: 5001 entries, 0 to 5000\n",
      "Data columns (total 8 columns):\n",
      " #   Column                     Non-Null Count  Dtype  \n",
      "---  ------                     --------------  -----  \n",
      " 0   long_hair                  5001 non-null   int64  \n",
      " 1   forehead_width_cm          5001 non-null   float64\n",
      " 2   forehead_height_cm         5001 non-null   float64\n",
      " 3   nose_wide                  5001 non-null   int64  \n",
      " 4   nose_long                  5001 non-null   int64  \n",
      " 5   lips_thin                  5001 non-null   int64  \n",
      " 6   distance_nose_to_lip_long  5001 non-null   int64  \n",
      " 7   gender                     5001 non-null   object \n",
      "dtypes: float64(2), int64(5), object(1)\n",
      "memory usage: 312.7+ KB\n"
     ]
    }
   ],
   "source": [
    "data.info()"
   ]
  },
  {
   "cell_type": "code",
   "execution_count": 5,
   "id": "46b04b4b",
   "metadata": {
    "execution": {
     "iopub.execute_input": "2024-03-30T11:50:07.666985Z",
     "iopub.status.busy": "2024-03-30T11:50:07.666638Z",
     "iopub.status.idle": "2024-03-30T11:50:07.674903Z",
     "shell.execute_reply": "2024-03-30T11:50:07.673546Z"
    },
    "papermill": {
     "duration": 0.018949,
     "end_time": "2024-03-30T11:50:07.676733",
     "exception": false,
     "start_time": "2024-03-30T11:50:07.657784",
     "status": "completed"
    },
    "tags": []
   },
   "outputs": [
    {
     "data": {
      "text/plain": [
       "gender\n",
       "Female    2501\n",
       "Male      2500\n",
       "Name: count, dtype: int64"
      ]
     },
     "execution_count": 5,
     "metadata": {},
     "output_type": "execute_result"
    }
   ],
   "source": [
    "data[\"gender\"].value_counts()"
   ]
  },
  {
   "cell_type": "code",
   "execution_count": 6,
   "id": "6ebd06d8",
   "metadata": {
    "execution": {
     "iopub.execute_input": "2024-03-30T11:50:07.695506Z",
     "iopub.status.busy": "2024-03-30T11:50:07.694623Z",
     "iopub.status.idle": "2024-03-30T11:50:07.712908Z",
     "shell.execute_reply": "2024-03-30T11:50:07.711426Z"
    },
    "papermill": {
     "duration": 0.030213,
     "end_time": "2024-03-30T11:50:07.714780",
     "exception": false,
     "start_time": "2024-03-30T11:50:07.684567",
     "status": "completed"
    },
    "tags": []
   },
   "outputs": [
    {
     "data": {
      "text/html": [
       "<div>\n",
       "<style scoped>\n",
       "    .dataframe tbody tr th:only-of-type {\n",
       "        vertical-align: middle;\n",
       "    }\n",
       "\n",
       "    .dataframe tbody tr th {\n",
       "        vertical-align: top;\n",
       "    }\n",
       "\n",
       "    .dataframe thead th {\n",
       "        text-align: right;\n",
       "    }\n",
       "</style>\n",
       "<table border=\"1\" class=\"dataframe\">\n",
       "  <thead>\n",
       "    <tr style=\"text-align: right;\">\n",
       "      <th></th>\n",
       "      <th>long_hair</th>\n",
       "      <th>forehead_width_cm</th>\n",
       "      <th>forehead_height_cm</th>\n",
       "      <th>nose_wide</th>\n",
       "      <th>nose_long</th>\n",
       "      <th>lips_thin</th>\n",
       "      <th>distance_nose_to_lip_long</th>\n",
       "      <th>gender</th>\n",
       "    </tr>\n",
       "  </thead>\n",
       "  <tbody>\n",
       "    <tr>\n",
       "      <th>0</th>\n",
       "      <td>1</td>\n",
       "      <td>11.8</td>\n",
       "      <td>6.1</td>\n",
       "      <td>1</td>\n",
       "      <td>0</td>\n",
       "      <td>1</td>\n",
       "      <td>1</td>\n",
       "      <td>Male</td>\n",
       "    </tr>\n",
       "    <tr>\n",
       "      <th>1</th>\n",
       "      <td>0</td>\n",
       "      <td>14.0</td>\n",
       "      <td>5.4</td>\n",
       "      <td>0</td>\n",
       "      <td>0</td>\n",
       "      <td>1</td>\n",
       "      <td>0</td>\n",
       "      <td>Female</td>\n",
       "    </tr>\n",
       "    <tr>\n",
       "      <th>2</th>\n",
       "      <td>0</td>\n",
       "      <td>11.8</td>\n",
       "      <td>6.3</td>\n",
       "      <td>1</td>\n",
       "      <td>1</td>\n",
       "      <td>1</td>\n",
       "      <td>1</td>\n",
       "      <td>Male</td>\n",
       "    </tr>\n",
       "    <tr>\n",
       "      <th>3</th>\n",
       "      <td>0</td>\n",
       "      <td>14.4</td>\n",
       "      <td>6.1</td>\n",
       "      <td>0</td>\n",
       "      <td>1</td>\n",
       "      <td>1</td>\n",
       "      <td>1</td>\n",
       "      <td>Male</td>\n",
       "    </tr>\n",
       "    <tr>\n",
       "      <th>4</th>\n",
       "      <td>1</td>\n",
       "      <td>13.5</td>\n",
       "      <td>5.9</td>\n",
       "      <td>0</td>\n",
       "      <td>0</td>\n",
       "      <td>0</td>\n",
       "      <td>0</td>\n",
       "      <td>Female</td>\n",
       "    </tr>\n",
       "    <tr>\n",
       "      <th>...</th>\n",
       "      <td>...</td>\n",
       "      <td>...</td>\n",
       "      <td>...</td>\n",
       "      <td>...</td>\n",
       "      <td>...</td>\n",
       "      <td>...</td>\n",
       "      <td>...</td>\n",
       "      <td>...</td>\n",
       "    </tr>\n",
       "    <tr>\n",
       "      <th>4996</th>\n",
       "      <td>1</td>\n",
       "      <td>13.6</td>\n",
       "      <td>5.1</td>\n",
       "      <td>0</td>\n",
       "      <td>0</td>\n",
       "      <td>0</td>\n",
       "      <td>0</td>\n",
       "      <td>Female</td>\n",
       "    </tr>\n",
       "    <tr>\n",
       "      <th>4997</th>\n",
       "      <td>1</td>\n",
       "      <td>11.9</td>\n",
       "      <td>5.4</td>\n",
       "      <td>0</td>\n",
       "      <td>0</td>\n",
       "      <td>0</td>\n",
       "      <td>0</td>\n",
       "      <td>Female</td>\n",
       "    </tr>\n",
       "    <tr>\n",
       "      <th>4998</th>\n",
       "      <td>1</td>\n",
       "      <td>12.9</td>\n",
       "      <td>5.7</td>\n",
       "      <td>0</td>\n",
       "      <td>0</td>\n",
       "      <td>0</td>\n",
       "      <td>0</td>\n",
       "      <td>Female</td>\n",
       "    </tr>\n",
       "    <tr>\n",
       "      <th>4999</th>\n",
       "      <td>1</td>\n",
       "      <td>13.2</td>\n",
       "      <td>6.2</td>\n",
       "      <td>0</td>\n",
       "      <td>0</td>\n",
       "      <td>0</td>\n",
       "      <td>0</td>\n",
       "      <td>Female</td>\n",
       "    </tr>\n",
       "    <tr>\n",
       "      <th>5000</th>\n",
       "      <td>1</td>\n",
       "      <td>15.4</td>\n",
       "      <td>5.4</td>\n",
       "      <td>1</td>\n",
       "      <td>1</td>\n",
       "      <td>1</td>\n",
       "      <td>1</td>\n",
       "      <td>Male</td>\n",
       "    </tr>\n",
       "  </tbody>\n",
       "</table>\n",
       "<p>5001 rows × 8 columns</p>\n",
       "</div>"
      ],
      "text/plain": [
       "      long_hair  forehead_width_cm  forehead_height_cm  nose_wide  nose_long  \\\n",
       "0             1               11.8                 6.1          1          0   \n",
       "1             0               14.0                 5.4          0          0   \n",
       "2             0               11.8                 6.3          1          1   \n",
       "3             0               14.4                 6.1          0          1   \n",
       "4             1               13.5                 5.9          0          0   \n",
       "...         ...                ...                 ...        ...        ...   \n",
       "4996          1               13.6                 5.1          0          0   \n",
       "4997          1               11.9                 5.4          0          0   \n",
       "4998          1               12.9                 5.7          0          0   \n",
       "4999          1               13.2                 6.2          0          0   \n",
       "5000          1               15.4                 5.4          1          1   \n",
       "\n",
       "      lips_thin  distance_nose_to_lip_long  gender  \n",
       "0             1                          1    Male  \n",
       "1             1                          0  Female  \n",
       "2             1                          1    Male  \n",
       "3             1                          1    Male  \n",
       "4             0                          0  Female  \n",
       "...         ...                        ...     ...  \n",
       "4996          0                          0  Female  \n",
       "4997          0                          0  Female  \n",
       "4998          0                          0  Female  \n",
       "4999          0                          0  Female  \n",
       "5000          1                          1    Male  \n",
       "\n",
       "[5001 rows x 8 columns]"
      ]
     },
     "execution_count": 6,
     "metadata": {},
     "output_type": "execute_result"
    }
   ],
   "source": [
    "data"
   ]
  },
  {
   "cell_type": "code",
   "execution_count": 7,
   "id": "39122b6a",
   "metadata": {
    "execution": {
     "iopub.execute_input": "2024-03-30T11:50:07.734059Z",
     "iopub.status.busy": "2024-03-30T11:50:07.732935Z",
     "iopub.status.idle": "2024-03-30T11:50:07.740198Z",
     "shell.execute_reply": "2024-03-30T11:50:07.738871Z"
    },
    "papermill": {
     "duration": 0.019362,
     "end_time": "2024-03-30T11:50:07.742757",
     "exception": false,
     "start_time": "2024-03-30T11:50:07.723395",
     "status": "completed"
    },
    "tags": []
   },
   "outputs": [],
   "source": [
    "f=data[data.gender==\"Female\"] #kötü huylu tümör\n",
    "m=data[data.gender==\"Male\"]  # iyi huylu tümör"
   ]
  },
  {
   "cell_type": "code",
   "execution_count": 8,
   "id": "75e824af",
   "metadata": {
    "execution": {
     "iopub.execute_input": "2024-03-30T11:50:07.762097Z",
     "iopub.status.busy": "2024-03-30T11:50:07.761730Z",
     "iopub.status.idle": "2024-03-30T11:50:07.768736Z",
     "shell.execute_reply": "2024-03-30T11:50:07.767331Z"
    },
    "papermill": {
     "duration": 0.018717,
     "end_time": "2024-03-30T11:50:07.770749",
     "exception": false,
     "start_time": "2024-03-30T11:50:07.752032",
     "status": "completed"
    },
    "tags": []
   },
   "outputs": [],
   "source": [
    "data.gender=[1 if each==\"Male\" else 0 for each in data.gender]"
   ]
  },
  {
   "cell_type": "code",
   "execution_count": 9,
   "id": "50afc309",
   "metadata": {
    "execution": {
     "iopub.execute_input": "2024-03-30T11:50:07.789003Z",
     "iopub.status.busy": "2024-03-30T11:50:07.788670Z",
     "iopub.status.idle": "2024-03-30T11:50:07.799062Z",
     "shell.execute_reply": "2024-03-30T11:50:07.797990Z"
    },
    "papermill": {
     "duration": 0.021824,
     "end_time": "2024-03-30T11:50:07.800897",
     "exception": false,
     "start_time": "2024-03-30T11:50:07.779073",
     "status": "completed"
    },
    "tags": []
   },
   "outputs": [
    {
     "data": {
      "text/plain": [
       "gender\n",
       "0    2501\n",
       "1    2500\n",
       "Name: count, dtype: int64"
      ]
     },
     "execution_count": 9,
     "metadata": {},
     "output_type": "execute_result"
    }
   ],
   "source": [
    "data[\"gender\"].value_counts()"
   ]
  },
  {
   "cell_type": "code",
   "execution_count": 10,
   "id": "27de7dc3",
   "metadata": {
    "execution": {
     "iopub.execute_input": "2024-03-30T11:50:07.820269Z",
     "iopub.status.busy": "2024-03-30T11:50:07.819662Z",
     "iopub.status.idle": "2024-03-30T11:50:07.824852Z",
     "shell.execute_reply": "2024-03-30T11:50:07.824284Z"
    },
    "papermill": {
     "duration": 0.016945,
     "end_time": "2024-03-30T11:50:07.826445",
     "exception": false,
     "start_time": "2024-03-30T11:50:07.809500",
     "status": "completed"
    },
    "tags": []
   },
   "outputs": [],
   "source": [
    "# x=feature \n",
    "# y=class \n",
    "\n",
    "x=data.drop([\"gender\"],axis=1)\n",
    "y=data.gender.values"
   ]
  },
  {
   "cell_type": "code",
   "execution_count": 11,
   "id": "328da2c4",
   "metadata": {
    "execution": {
     "iopub.execute_input": "2024-03-30T11:50:07.844931Z",
     "iopub.status.busy": "2024-03-30T11:50:07.843716Z",
     "iopub.status.idle": "2024-03-30T11:50:07.857444Z",
     "shell.execute_reply": "2024-03-30T11:50:07.856571Z"
    },
    "papermill": {
     "duration": 0.024879,
     "end_time": "2024-03-30T11:50:07.859553",
     "exception": false,
     "start_time": "2024-03-30T11:50:07.834674",
     "status": "completed"
    },
    "tags": []
   },
   "outputs": [
    {
     "data": {
      "text/html": [
       "<div>\n",
       "<style scoped>\n",
       "    .dataframe tbody tr th:only-of-type {\n",
       "        vertical-align: middle;\n",
       "    }\n",
       "\n",
       "    .dataframe tbody tr th {\n",
       "        vertical-align: top;\n",
       "    }\n",
       "\n",
       "    .dataframe thead th {\n",
       "        text-align: right;\n",
       "    }\n",
       "</style>\n",
       "<table border=\"1\" class=\"dataframe\">\n",
       "  <thead>\n",
       "    <tr style=\"text-align: right;\">\n",
       "      <th></th>\n",
       "      <th>long_hair</th>\n",
       "      <th>forehead_width_cm</th>\n",
       "      <th>forehead_height_cm</th>\n",
       "      <th>nose_wide</th>\n",
       "      <th>nose_long</th>\n",
       "      <th>lips_thin</th>\n",
       "      <th>distance_nose_to_lip_long</th>\n",
       "    </tr>\n",
       "  </thead>\n",
       "  <tbody>\n",
       "    <tr>\n",
       "      <th>0</th>\n",
       "      <td>1</td>\n",
       "      <td>11.8</td>\n",
       "      <td>6.1</td>\n",
       "      <td>1</td>\n",
       "      <td>0</td>\n",
       "      <td>1</td>\n",
       "      <td>1</td>\n",
       "    </tr>\n",
       "    <tr>\n",
       "      <th>1</th>\n",
       "      <td>0</td>\n",
       "      <td>14.0</td>\n",
       "      <td>5.4</td>\n",
       "      <td>0</td>\n",
       "      <td>0</td>\n",
       "      <td>1</td>\n",
       "      <td>0</td>\n",
       "    </tr>\n",
       "    <tr>\n",
       "      <th>2</th>\n",
       "      <td>0</td>\n",
       "      <td>11.8</td>\n",
       "      <td>6.3</td>\n",
       "      <td>1</td>\n",
       "      <td>1</td>\n",
       "      <td>1</td>\n",
       "      <td>1</td>\n",
       "    </tr>\n",
       "    <tr>\n",
       "      <th>3</th>\n",
       "      <td>0</td>\n",
       "      <td>14.4</td>\n",
       "      <td>6.1</td>\n",
       "      <td>0</td>\n",
       "      <td>1</td>\n",
       "      <td>1</td>\n",
       "      <td>1</td>\n",
       "    </tr>\n",
       "    <tr>\n",
       "      <th>4</th>\n",
       "      <td>1</td>\n",
       "      <td>13.5</td>\n",
       "      <td>5.9</td>\n",
       "      <td>0</td>\n",
       "      <td>0</td>\n",
       "      <td>0</td>\n",
       "      <td>0</td>\n",
       "    </tr>\n",
       "    <tr>\n",
       "      <th>...</th>\n",
       "      <td>...</td>\n",
       "      <td>...</td>\n",
       "      <td>...</td>\n",
       "      <td>...</td>\n",
       "      <td>...</td>\n",
       "      <td>...</td>\n",
       "      <td>...</td>\n",
       "    </tr>\n",
       "    <tr>\n",
       "      <th>4996</th>\n",
       "      <td>1</td>\n",
       "      <td>13.6</td>\n",
       "      <td>5.1</td>\n",
       "      <td>0</td>\n",
       "      <td>0</td>\n",
       "      <td>0</td>\n",
       "      <td>0</td>\n",
       "    </tr>\n",
       "    <tr>\n",
       "      <th>4997</th>\n",
       "      <td>1</td>\n",
       "      <td>11.9</td>\n",
       "      <td>5.4</td>\n",
       "      <td>0</td>\n",
       "      <td>0</td>\n",
       "      <td>0</td>\n",
       "      <td>0</td>\n",
       "    </tr>\n",
       "    <tr>\n",
       "      <th>4998</th>\n",
       "      <td>1</td>\n",
       "      <td>12.9</td>\n",
       "      <td>5.7</td>\n",
       "      <td>0</td>\n",
       "      <td>0</td>\n",
       "      <td>0</td>\n",
       "      <td>0</td>\n",
       "    </tr>\n",
       "    <tr>\n",
       "      <th>4999</th>\n",
       "      <td>1</td>\n",
       "      <td>13.2</td>\n",
       "      <td>6.2</td>\n",
       "      <td>0</td>\n",
       "      <td>0</td>\n",
       "      <td>0</td>\n",
       "      <td>0</td>\n",
       "    </tr>\n",
       "    <tr>\n",
       "      <th>5000</th>\n",
       "      <td>1</td>\n",
       "      <td>15.4</td>\n",
       "      <td>5.4</td>\n",
       "      <td>1</td>\n",
       "      <td>1</td>\n",
       "      <td>1</td>\n",
       "      <td>1</td>\n",
       "    </tr>\n",
       "  </tbody>\n",
       "</table>\n",
       "<p>5001 rows × 7 columns</p>\n",
       "</div>"
      ],
      "text/plain": [
       "      long_hair  forehead_width_cm  forehead_height_cm  nose_wide  nose_long  \\\n",
       "0             1               11.8                 6.1          1          0   \n",
       "1             0               14.0                 5.4          0          0   \n",
       "2             0               11.8                 6.3          1          1   \n",
       "3             0               14.4                 6.1          0          1   \n",
       "4             1               13.5                 5.9          0          0   \n",
       "...         ...                ...                 ...        ...        ...   \n",
       "4996          1               13.6                 5.1          0          0   \n",
       "4997          1               11.9                 5.4          0          0   \n",
       "4998          1               12.9                 5.7          0          0   \n",
       "4999          1               13.2                 6.2          0          0   \n",
       "5000          1               15.4                 5.4          1          1   \n",
       "\n",
       "      lips_thin  distance_nose_to_lip_long  \n",
       "0             1                          1  \n",
       "1             1                          0  \n",
       "2             1                          1  \n",
       "3             1                          1  \n",
       "4             0                          0  \n",
       "...         ...                        ...  \n",
       "4996          0                          0  \n",
       "4997          0                          0  \n",
       "4998          0                          0  \n",
       "4999          0                          0  \n",
       "5000          1                          1  \n",
       "\n",
       "[5001 rows x 7 columns]"
      ]
     },
     "execution_count": 11,
     "metadata": {},
     "output_type": "execute_result"
    }
   ],
   "source": [
    "x"
   ]
  },
  {
   "cell_type": "code",
   "execution_count": 12,
   "id": "98683806",
   "metadata": {
    "execution": {
     "iopub.execute_input": "2024-03-30T11:50:07.878652Z",
     "iopub.status.busy": "2024-03-30T11:50:07.878292Z",
     "iopub.status.idle": "2024-03-30T11:50:07.885440Z",
     "shell.execute_reply": "2024-03-30T11:50:07.884218Z"
    },
    "papermill": {
     "duration": 0.018932,
     "end_time": "2024-03-30T11:50:07.887347",
     "exception": false,
     "start_time": "2024-03-30T11:50:07.868415",
     "status": "completed"
    },
    "tags": []
   },
   "outputs": [
    {
     "data": {
      "text/plain": [
       "array([1, 0, 1, ..., 0, 0, 1])"
      ]
     },
     "execution_count": 12,
     "metadata": {},
     "output_type": "execute_result"
    }
   ],
   "source": [
    "y"
   ]
  },
  {
   "cell_type": "code",
   "execution_count": 13,
   "id": "43f13568",
   "metadata": {
    "execution": {
     "iopub.execute_input": "2024-03-30T11:50:07.907859Z",
     "iopub.status.busy": "2024-03-30T11:50:07.906913Z",
     "iopub.status.idle": "2024-03-30T11:50:07.913849Z",
     "shell.execute_reply": "2024-03-30T11:50:07.912446Z"
    },
    "papermill": {
     "duration": 0.019948,
     "end_time": "2024-03-30T11:50:07.916250",
     "exception": false,
     "start_time": "2024-03-30T11:50:07.896302",
     "status": "completed"
    },
    "tags": []
   },
   "outputs": [],
   "source": [
    "x=(x-np.min(x))/(np.max(x)-np.min(x))"
   ]
  },
  {
   "cell_type": "code",
   "execution_count": 14,
   "id": "b1e19033",
   "metadata": {
    "execution": {
     "iopub.execute_input": "2024-03-30T11:50:07.935840Z",
     "iopub.status.busy": "2024-03-30T11:50:07.935284Z",
     "iopub.status.idle": "2024-03-30T11:50:09.289662Z",
     "shell.execute_reply": "2024-03-30T11:50:09.288660Z"
    },
    "papermill": {
     "duration": 1.366187,
     "end_time": "2024-03-30T11:50:09.291838",
     "exception": false,
     "start_time": "2024-03-30T11:50:07.925651",
     "status": "completed"
    },
    "tags": []
   },
   "outputs": [],
   "source": [
    "from sklearn.model_selection import train_test_split\n",
    "\n",
    "x_train,x_test,y_train,y_test=train_test_split(x,y,test_size=0.2,random_state=42)"
   ]
  },
  {
   "cell_type": "markdown",
   "id": "c5de52f6",
   "metadata": {
    "papermill": {
     "duration": 0.008513,
     "end_time": "2024-03-30T11:50:09.309064",
     "exception": false,
     "start_time": "2024-03-30T11:50:09.300551",
     "status": "completed"
    },
    "tags": []
   },
   "source": [
    "# Logistic Regression"
   ]
  },
  {
   "cell_type": "code",
   "execution_count": 15,
   "id": "47ddedea",
   "metadata": {
    "execution": {
     "iopub.execute_input": "2024-03-30T11:50:09.327361Z",
     "iopub.status.busy": "2024-03-30T11:50:09.327013Z",
     "iopub.status.idle": "2024-03-30T11:50:09.479869Z",
     "shell.execute_reply": "2024-03-30T11:50:09.478984Z"
    },
    "papermill": {
     "duration": 0.164427,
     "end_time": "2024-03-30T11:50:09.482037",
     "exception": false,
     "start_time": "2024-03-30T11:50:09.317610",
     "status": "completed"
    },
    "tags": []
   },
   "outputs": [
    {
     "name": "stdout",
     "output_type": "stream",
     "text": [
      "test accuracy: 0.9630369630369631 \n",
      "train accuracy: 0.9665 \n"
     ]
    }
   ],
   "source": [
    "from sklearn.linear_model import LogisticRegression\n",
    "\n",
    "lr = LogisticRegression()\n",
    "\n",
    "lr.fit(x_train,y_train)\n",
    "\n",
    "print(\"test accuracy: {} \".format(lr.fit(x_train, y_train).score(x_test, y_test))) #score predict et daha sonra score ver\n",
    "print(\"train accuracy: {} \".format(lr.fit(x_train, y_train).score(x_train, y_train)))  #score predict et daha sonra score ver"
   ]
  },
  {
   "cell_type": "code",
   "execution_count": 16,
   "id": "3b0f3846",
   "metadata": {
    "execution": {
     "iopub.execute_input": "2024-03-30T11:50:09.505382Z",
     "iopub.status.busy": "2024-03-30T11:50:09.504986Z",
     "iopub.status.idle": "2024-03-30T11:50:09.511035Z",
     "shell.execute_reply": "2024-03-30T11:50:09.510243Z"
    },
    "papermill": {
     "duration": 0.019935,
     "end_time": "2024-03-30T11:50:09.512876",
     "exception": false,
     "start_time": "2024-03-30T11:50:09.492941",
     "status": "completed"
    },
    "tags": []
   },
   "outputs": [],
   "source": [
    "y_pred=lr.predict(x_test)  # tahmin edilen datada bakmamız gerekir \n",
    "y_true=y_test  #test datası gerçek datadır"
   ]
  },
  {
   "cell_type": "code",
   "execution_count": 17,
   "id": "2388585a",
   "metadata": {
    "execution": {
     "iopub.execute_input": "2024-03-30T11:50:09.537057Z",
     "iopub.status.busy": "2024-03-30T11:50:09.536680Z",
     "iopub.status.idle": "2024-03-30T11:50:09.544022Z",
     "shell.execute_reply": "2024-03-30T11:50:09.543191Z"
    },
    "papermill": {
     "duration": 0.022085,
     "end_time": "2024-03-30T11:50:09.545827",
     "exception": false,
     "start_time": "2024-03-30T11:50:09.523742",
     "status": "completed"
    },
    "tags": []
   },
   "outputs": [
    {
     "data": {
      "text/plain": [
       "array([[487,  15],\n",
       "       [ 22, 477]])"
      ]
     },
     "execution_count": 17,
     "metadata": {},
     "output_type": "execute_result"
    }
   ],
   "source": [
    "from sklearn.metrics import confusion_matrix\n",
    "cm=confusion_matrix(y_true,y_pred)\n",
    "cm"
   ]
  },
  {
   "cell_type": "code",
   "execution_count": 18,
   "id": "97d384ff",
   "metadata": {
    "execution": {
     "iopub.execute_input": "2024-03-30T11:50:09.569133Z",
     "iopub.status.busy": "2024-03-30T11:50:09.568783Z",
     "iopub.status.idle": "2024-03-30T11:50:10.213493Z",
     "shell.execute_reply": "2024-03-30T11:50:10.212560Z"
    },
    "papermill": {
     "duration": 0.658174,
     "end_time": "2024-03-30T11:50:10.215371",
     "exception": false,
     "start_time": "2024-03-30T11:50:09.557197",
     "status": "completed"
    },
    "tags": []
   },
   "outputs": [
    {
     "data": {
      "image/png": "[encoded data removed]",
      "text/plain": [
       "<Figure size 500x500 with 2 Axes>"
      ]
     },
     "metadata": {},
     "output_type": "display_data"
    }
   ],
   "source": [
    "import seaborn as sns\n",
    "import matplotlib.pyplot as plt\n",
    "\n",
    "f,ax = plt.subplots(figsize=(5,5))\n",
    "sns.heatmap(cm,annot = True,linewidths=0.5,linecolor=\"red\",fmt = \".0f\",ax=ax)\n",
    "plt.xlabel(\"y_pred\")\n",
    "plt.ylabel(\"y_true\")\n",
    "plt.show()"
   ]
  },
  {
   "cell_type": "markdown",
   "id": "ebeb4697",
   "metadata": {
    "papermill": {
     "duration": 0.008614,
     "end_time": "2024-03-30T11:50:10.233325",
     "exception": false,
     "start_time": "2024-03-30T11:50:10.224711",
     "status": "completed"
    },
    "tags": []
   },
   "source": [
    "# KNN"
   ]
  },
  {
   "cell_type": "code",
   "execution_count": 19,
   "id": "6eade9ab",
   "metadata": {
    "execution": {
     "iopub.execute_input": "2024-03-30T11:50:10.253051Z",
     "iopub.status.busy": "2024-03-30T11:50:10.252398Z",
     "iopub.status.idle": "2024-03-30T11:50:10.389394Z",
     "shell.execute_reply": "2024-03-30T11:50:10.388334Z"
    },
    "papermill": {
     "duration": 0.149992,
     "end_time": "2024-03-30T11:50:10.392242",
     "exception": false,
     "start_time": "2024-03-30T11:50:10.242250",
     "status": "completed"
    },
    "tags": []
   },
   "outputs": [
    {
     "data": {
      "text/plain": [
       "array([1, 0, 0, ..., 0, 1, 0])"
      ]
     },
     "execution_count": 19,
     "metadata": {},
     "output_type": "execute_result"
    }
   ],
   "source": [
    "from sklearn.neighbors import KNeighborsClassifier\n",
    "knn=KNeighborsClassifier(n_neighbors=3)\n",
    "knn.fit(x_train,y_train)\n",
    "prediction=knn.predict(x_test)\n",
    "prediction"
   ]
  },
  {
   "cell_type": "code",
   "execution_count": 20,
   "id": "1535c08e",
   "metadata": {
    "execution": {
     "iopub.execute_input": "2024-03-30T11:50:10.412472Z",
     "iopub.status.busy": "2024-03-30T11:50:10.411800Z",
     "iopub.status.idle": "2024-03-30T11:50:10.465775Z",
     "shell.execute_reply": "2024-03-30T11:50:10.464720Z"
    },
    "papermill": {
     "duration": 0.067076,
     "end_time": "2024-03-30T11:50:10.468573",
     "exception": false,
     "start_time": "2024-03-30T11:50:10.401497",
     "status": "completed"
    },
    "tags": []
   },
   "outputs": [
    {
     "name": "stdout",
     "output_type": "stream",
     "text": [
      " 3 nn score: 0.964035964035964 \n"
     ]
    }
   ],
   "source": [
    "print(\" {} nn score: {} \".format(3,knn.score(x_test,y_test)))"
   ]
  },
  {
   "cell_type": "markdown",
   "id": "9ae79b86",
   "metadata": {
    "papermill": {
     "duration": 0.010776,
     "end_time": "2024-03-30T11:50:10.489570",
     "exception": false,
     "start_time": "2024-03-30T11:50:10.478794",
     "status": "completed"
    },
    "tags": []
   },
   "source": [
    "How to find the most appropriate k value? Since the k value here is a hyperparameter, let's find the most appropriate one."
   ]
  },
  {
   "cell_type": "code",
   "execution_count": 21,
   "id": "024943ab",
   "metadata": {
    "execution": {
     "iopub.execute_input": "2024-03-30T11:50:10.510736Z",
     "iopub.status.busy": "2024-03-30T11:50:10.509138Z",
     "iopub.status.idle": "2024-03-30T11:50:12.007580Z",
     "shell.execute_reply": "2024-03-30T11:50:12.006708Z"
    },
    "papermill": {
     "duration": 1.51048,
     "end_time": "2024-03-30T11:50:12.009325",
     "exception": false,
     "start_time": "2024-03-30T11:50:10.498845",
     "status": "completed"
    },
    "tags": []
   },
   "outputs": [
    {
     "data": {
      "image/png": "[encoded data removed]",
      "text/plain": [
       "<Figure size 640x480 with 1 Axes>"
      ]
     },
     "metadata": {},
     "output_type": "display_data"
    }
   ],
   "source": [
    "#find k value\n",
    "score_list=[]\n",
    "for each in range(1,15):\n",
    "    knn2=KNeighborsClassifier(n_neighbors=each)\n",
    "    knn2.fit(x_train,y_train)\n",
    "    knn2.predict(x_test)\n",
    "    score_list.append(knn2.score(x_test,y_test))\n",
    "    \n",
    "plt.plot(range(1,15),score_list)\n",
    "plt.xlabel(\"k values\")\n",
    "plt.ylabel(\"accuracy\")\n",
    "plt.show()"
   ]
  },
  {
   "cell_type": "code",
   "execution_count": 22,
   "id": "442c92e6",
   "metadata": {
    "execution": {
     "iopub.execute_input": "2024-03-30T11:50:12.030064Z",
     "iopub.status.busy": "2024-03-30T11:50:12.029758Z",
     "iopub.status.idle": "2024-03-30T11:50:12.133405Z",
     "shell.execute_reply": "2024-03-30T11:50:12.132600Z"
    },
    "papermill": {
     "duration": 0.116191,
     "end_time": "2024-03-30T11:50:12.135027",
     "exception": false,
     "start_time": "2024-03-30T11:50:12.018836",
     "status": "completed"
    },
    "tags": []
   },
   "outputs": [
    {
     "name": "stdout",
     "output_type": "stream",
     "text": [
      " 9 nn score: 0.968031968031968 \n"
     ]
    }
   ],
   "source": [
    "from sklearn.neighbors import KNeighborsClassifier\n",
    "knn=KNeighborsClassifier(n_neighbors=9)\n",
    "knn.fit(x_train,y_train)\n",
    "prediction=knn.predict(x_test)\n",
    "print(\" {} nn score: {} \".format(9,knn.score(x_test,y_test)))"
   ]
  },
  {
   "cell_type": "code",
   "execution_count": 23,
   "id": "e4e6e057",
   "metadata": {
    "execution": {
     "iopub.execute_input": "2024-03-30T11:50:12.155416Z",
     "iopub.status.busy": "2024-03-30T11:50:12.154797Z",
     "iopub.status.idle": "2024-03-30T11:50:12.376053Z",
     "shell.execute_reply": "2024-03-30T11:50:12.375006Z"
    },
    "papermill": {
     "duration": 0.233406,
     "end_time": "2024-03-30T11:50:12.377859",
     "exception": false,
     "start_time": "2024-03-30T11:50:12.144453",
     "status": "completed"
    },
    "tags": []
   },
   "outputs": [
    {
     "data": {
      "image/png": "[encoded data removed]",
      "text/plain": [
       "<Figure size 500x500 with 2 Axes>"
      ]
     },
     "metadata": {},
     "output_type": "display_data"
    }
   ],
   "source": [
    "y_pred=knn.predict(x_test)  # tahmin edilen datada bakmamız gerekir \n",
    "y_true=y_test  #test datası gerçek datadır\n",
    "from sklearn.metrics import confusion_matrix\n",
    "cm=confusion_matrix(y_true,y_pred)\n",
    "\n",
    "\n",
    "f,ax = plt.subplots(figsize=(5,5))\n",
    "sns.heatmap(cm,annot = True,linewidths=0.5,linecolor=\"red\",fmt = \".0f\",ax=ax)\n",
    "plt.xlabel(\"y_pred\")\n",
    "plt.ylabel(\"y_true\")\n",
    "plt.show()"
   ]
  },
  {
   "cell_type": "markdown",
   "id": "0e26387d",
   "metadata": {
    "papermill": {
     "duration": 0.009252,
     "end_time": "2024-03-30T11:50:12.396814",
     "exception": false,
     "start_time": "2024-03-30T11:50:12.387562",
     "status": "completed"
    },
    "tags": []
   },
   "source": [
    "# SVM"
   ]
  },
  {
   "cell_type": "code",
   "execution_count": 24,
   "id": "632b8858",
   "metadata": {
    "execution": {
     "iopub.execute_input": "2024-03-30T11:50:12.420062Z",
     "iopub.status.busy": "2024-03-30T11:50:12.418854Z",
     "iopub.status.idle": "2024-03-30T11:50:12.543136Z",
     "shell.execute_reply": "2024-03-30T11:50:12.541414Z"
    },
    "papermill": {
     "duration": 0.13873,
     "end_time": "2024-03-30T11:50:12.545085",
     "exception": false,
     "start_time": "2024-03-30T11:50:12.406355",
     "status": "completed"
    },
    "tags": []
   },
   "outputs": [
    {
     "name": "stdout",
     "output_type": "stream",
     "text": [
      "print accuracy of svm algo:  0.9630369630369631\n"
     ]
    }
   ],
   "source": [
    "from sklearn.svm import SVC\n",
    "svm=SVC(random_state=1)\n",
    "svm.fit(x_train,y_train)\n",
    "print(\"print accuracy of svm algo: \",svm.score(x_test,y_test))"
   ]
  },
  {
   "cell_type": "code",
   "execution_count": 25,
   "id": "48d22dde",
   "metadata": {
    "execution": {
     "iopub.execute_input": "2024-03-30T11:50:12.567368Z",
     "iopub.status.busy": "2024-03-30T11:50:12.566973Z",
     "iopub.status.idle": "2024-03-30T11:50:12.766072Z",
     "shell.execute_reply": "2024-03-30T11:50:12.764940Z"
    },
    "papermill": {
     "duration": 0.211938,
     "end_time": "2024-03-30T11:50:12.768010",
     "exception": false,
     "start_time": "2024-03-30T11:50:12.556072",
     "status": "completed"
    },
    "tags": []
   },
   "outputs": [
    {
     "data": {
      "image/png": "[encoded data removed]",
      "text/plain": [
       "<Figure size 500x500 with 2 Axes>"
      ]
     },
     "metadata": {},
     "output_type": "display_data"
    }
   ],
   "source": [
    "y_pred=svm.predict(x_test)  # tahmin edilen datada bakmamız gerekir \n",
    "y_true=y_test  #test datası gerçek datadır\n",
    "from sklearn.metrics import confusion_matrix\n",
    "cm=confusion_matrix(y_true,y_pred)\n",
    "\n",
    "\n",
    "f,ax = plt.subplots(figsize=(5,5))\n",
    "sns.heatmap(cm,annot = True,linewidths=0.5,linecolor=\"red\",fmt = \".0f\",ax=ax)\n",
    "plt.xlabel(\"y_pred\")\n",
    "plt.ylabel(\"y_true\")\n",
    "plt.show()"
   ]
  },
  {
   "cell_type": "markdown",
   "id": "3a22fc3b",
   "metadata": {
    "papermill": {
     "duration": 0.009662,
     "end_time": "2024-03-30T11:50:12.788094",
     "exception": false,
     "start_time": "2024-03-30T11:50:12.778432",
     "status": "completed"
    },
    "tags": []
   },
   "source": [
    "# Naive Bayes"
   ]
  },
  {
   "cell_type": "code",
   "execution_count": 26,
   "id": "32b17fb1",
   "metadata": {
    "execution": {
     "iopub.execute_input": "2024-03-30T11:50:12.811243Z",
     "iopub.status.busy": "2024-03-30T11:50:12.810697Z",
     "iopub.status.idle": "2024-03-30T11:50:12.824624Z",
     "shell.execute_reply": "2024-03-30T11:50:12.823712Z"
    },
    "papermill": {
     "duration": 0.027795,
     "end_time": "2024-03-30T11:50:12.827125",
     "exception": false,
     "start_time": "2024-03-30T11:50:12.799330",
     "status": "completed"
    },
    "tags": []
   },
   "outputs": [
    {
     "name": "stdout",
     "output_type": "stream",
     "text": [
      "Score:  0.964035964035964\n"
     ]
    }
   ],
   "source": [
    "from sklearn.naive_bayes import GaussianNB\n",
    "\n",
    "nb=GaussianNB()\n",
    "nb.fit(x_train,y_train)\n",
    "\n",
    "prediction=nb.predict(x_test)\n",
    "print(\"Score: \",nb.score(x_test,y_test))"
   ]
  },
  {
   "cell_type": "code",
   "execution_count": 27,
   "id": "7a04b1bc",
   "metadata": {
    "execution": {
     "iopub.execute_input": "2024-03-30T11:50:12.850505Z",
     "iopub.status.busy": "2024-03-30T11:50:12.850093Z",
     "iopub.status.idle": "2024-03-30T11:50:13.029998Z",
     "shell.execute_reply": "2024-03-30T11:50:13.028694Z"
    },
    "papermill": {
     "duration": 0.194733,
     "end_time": "2024-03-30T11:50:13.032702",
     "exception": false,
     "start_time": "2024-03-30T11:50:12.837969",
     "status": "completed"
    },
    "tags": []
   },
   "outputs": [
    {
     "data": {
      "image/png": "[encoded data removed]",
      "text/plain": [
       "<Figure size 500x500 with 2 Axes>"
      ]
     },
     "metadata": {},
     "output_type": "display_data"
    }
   ],
   "source": [
    "y_pred=nb.predict(x_test)  # tahmin edilen datada bakmamız gerekir \n",
    "y_true=y_test  #test datası gerçek datadır\n",
    "from sklearn.metrics import confusion_matrix\n",
    "cm=confusion_matrix(y_true,y_pred)\n",
    "\n",
    "\n",
    "f,ax = plt.subplots(figsize=(5,5))\n",
    "sns.heatmap(cm,annot = True,linewidths=0.5,linecolor=\"red\",fmt = \".0f\",ax=ax)\n",
    "plt.xlabel(\"y_pred\")\n",
    "plt.ylabel(\"y_true\")\n",
    "plt.show()"
   ]
  },
  {
   "cell_type": "code",
   "execution_count": 28,
   "id": "9e2a8d80",
   "metadata": {
    "execution": {
     "iopub.execute_input": "2024-03-30T11:50:13.054936Z",
     "iopub.status.busy": "2024-03-30T11:50:13.054597Z",
     "iopub.status.idle": "2024-03-30T11:50:13.104436Z",
     "shell.execute_reply": "2024-03-30T11:50:13.103307Z"
    },
    "papermill": {
     "duration": 0.063173,
     "end_time": "2024-03-30T11:50:13.106311",
     "exception": false,
     "start_time": "2024-03-30T11:50:13.043138",
     "status": "completed"
    },
    "tags": []
   },
   "outputs": [
    {
     "name": "stdout",
     "output_type": "stream",
     "text": [
      "score:  0.952047952047952\n"
     ]
    }
   ],
   "source": [
    "from sklearn.tree import DecisionTreeClassifier\n",
    "tree=DecisionTreeClassifier()\n",
    "tree.fit(x_train,y_train)\n",
    "print(\"score: \", tree.score(x_test,y_test))"
   ]
  },
  {
   "cell_type": "code",
   "execution_count": 29,
   "id": "cd03c5ca",
   "metadata": {
    "execution": {
     "iopub.execute_input": "2024-03-30T11:50:13.130565Z",
     "iopub.status.busy": "2024-03-30T11:50:13.128771Z",
     "iopub.status.idle": "2024-03-30T11:50:13.300666Z",
     "shell.execute_reply": "2024-03-30T11:50:13.299882Z"
    },
    "papermill": {
     "duration": 0.185618,
     "end_time": "2024-03-30T11:50:13.302609",
     "exception": false,
     "start_time": "2024-03-30T11:50:13.116991",
     "status": "completed"
    },
    "tags": []
   },
   "outputs": [
    {
     "data": {
      "image/png": "[encoded data removed]",
      "text/plain": [
       "<Figure size 500x500 with 2 Axes>"
      ]
     },
     "metadata": {},
     "output_type": "display_data"
    }
   ],
   "source": [
    "y_pred=tree.predict(x_test)  # tahmin edilen datada bakmamız gerekir \n",
    "y_true=y_test  #test datası gerçek datadır\n",
    "from sklearn.metrics import confusion_matrix\n",
    "cm=confusion_matrix(y_true,y_pred)\n",
    "\n",
    "\n",
    "f,ax = plt.subplots(figsize=(5,5))\n",
    "sns.heatmap(cm,annot = True,linewidths=0.5,linecolor=\"red\",fmt = \".0f\",ax=ax)\n",
    "plt.xlabel(\"y_pred\")\n",
    "plt.ylabel(\"y_true\")\n",
    "plt.show()"
   ]
  },
  {
   "cell_type": "markdown",
   "id": "277fb0ef",
   "metadata": {
    "papermill": {
     "duration": 0.010422,
     "end_time": "2024-03-30T11:50:13.323914",
     "exception": false,
     "start_time": "2024-03-30T11:50:13.313492",
     "status": "completed"
    },
    "tags": []
   },
   "source": [
    "# Random Forest"
   ]
  },
  {
   "cell_type": "code",
   "execution_count": 30,
   "id": "7aa3015b",
   "metadata": {
    "execution": {
     "iopub.execute_input": "2024-03-30T11:50:13.346825Z",
     "iopub.status.busy": "2024-03-30T11:50:13.346476Z",
     "iopub.status.idle": "2024-03-30T11:50:13.993578Z",
     "shell.execute_reply": "2024-03-30T11:50:13.992831Z"
    },
    "papermill": {
     "duration": 0.661197,
     "end_time": "2024-03-30T11:50:13.995913",
     "exception": false,
     "start_time": "2024-03-30T11:50:13.334716",
     "status": "completed"
    },
    "tags": []
   },
   "outputs": [
    {
     "name": "stdout",
     "output_type": "stream",
     "text": [
      "Random Forest score:  0.962037962037962\n"
     ]
    }
   ],
   "source": [
    "##random forest\n",
    "\n",
    "from sklearn.ensemble import RandomForestClassifier\n",
    "\n",
    "rf=RandomForestClassifier(n_estimators = 200,random_state = 1)  #n_estimators = 100 kaç tree olsun\n",
    "rf.fit(x_train,y_train)\n",
    "print(\"Random Forest score: \", rf.score(x_test,y_test))"
   ]
  },
  {
   "cell_type": "code",
   "execution_count": 31,
   "id": "1e7e4d39",
   "metadata": {
    "execution": {
     "iopub.execute_input": "2024-03-30T11:50:14.018982Z",
     "iopub.status.busy": "2024-03-30T11:50:14.018649Z",
     "iopub.status.idle": "2024-03-30T11:50:14.233157Z",
     "shell.execute_reply": "2024-03-30T11:50:14.232337Z"
    },
    "papermill": {
     "duration": 0.228283,
     "end_time": "2024-03-30T11:50:14.234977",
     "exception": false,
     "start_time": "2024-03-30T11:50:14.006694",
     "status": "completed"
    },
    "tags": []
   },
   "outputs": [
    {
     "data": {
      "image/png": "[encoded data removed]",
      "text/plain": [
       "<Figure size 500x500 with 2 Axes>"
      ]
     },
     "metadata": {},
     "output_type": "display_data"
    }
   ],
   "source": [
    "y_pred=rf.predict(x_test)  # tahmin edilen datada bakmamız gerekir \n",
    "y_true=y_test  #test datası gerçek datadır\n",
    "from sklearn.metrics import confusion_matrix\n",
    "cm=confusion_matrix(y_true,y_pred)\n",
    "\n",
    "\n",
    "f,ax = plt.subplots(figsize=(5,5))\n",
    "sns.heatmap(cm,annot = True,linewidths=0.5,linecolor=\"red\",fmt = \".0f\",ax=ax)\n",
    "plt.xlabel(\"y_pred\")\n",
    "plt.ylabel(\"y_true\")\n",
    "plt.show()"
   ]
  },
  {
   "cell_type": "code",
   "execution_count": null,
   "id": "1df3ffa3",
   "metadata": {
    "papermill": {
     "duration": 0.011453,
     "end_time": "2024-03-30T11:50:14.258676",
     "exception": false,
     "start_time": "2024-03-30T11:50:14.247223",
     "status": "completed"
    },
    "tags": []
   },
   "outputs": [],
   "source": []
  }
 ],
 "metadata": {
  "kaggle": {
   "accelerator": "none",
   "dataSources": [
    {
     "datasetId": 908128,
     "sourceId": 1539868,
     "sourceType": "datasetVersion"
    }
   ],
   "dockerImageVersionId": 30673,
   "isGpuEnabled": false,
   "isInternetEnabled": true,
   "language": "python",
   "sourceType": "notebook"
  },
  "kernelspec": {
   "display_name": "Python 3",
   "language": "python",
   "name": "python3"
  },
  "language_info": {
   "codemirror_mode": {
    "name": "ipython",
    "version": 3
   },
   "file_extension": ".py",
   "mimetype": "text/x-python",
   "name": "python",
   "nbconvert_exporter": "python",
   "pygments_lexer": "ipython3",
   "version": "3.10.13"
  },
  "papermill": {
   "default_parameters": {},
   "duration": 10.97167,
   "end_time": "2024-03-30T11:50:14.991170",
   "environment_variables": {},
   "exception": null,
   "input_path": "__notebook__.ipynb",
   "output_path": "__notebook__.ipynb",
   "parameters": {},
   "start_time": "2024-03-30T11:50:04.019500",
   "version": "2.5.0"
  }
 },
 "nbformat": 4,
 "nbformat_minor": 5
}
